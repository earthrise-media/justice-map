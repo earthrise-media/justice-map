{
 "cells": [
  {
   "cell_type": "markdown",
   "metadata": {},
   "source": [
    "### Clean data script\n",
    "A very quick script to process the data for .  Note that the data are so large and the EPA servers are so inconsistent that even the `requests` module with streaming data fails.  So just download the data to your local machine to process.  The objective is to just get started with some real data for California."
   ]
  },
  {
   "cell_type": "code",
   "execution_count": 24,
   "metadata": {},
   "outputs": [],
   "source": [
    "import pandas as pd\n",
    "import geopandas as gpd"
   ]
  },
  {
   "cell_type": "code",
   "execution_count": null,
   "metadata": {},
   "outputs": [],
   "source": [
    "# Grab and unzip the latest verion of the EJSCREEN data for 2020 in the `/tmp` folder.\n",
    "\n",
    "# Found here (479MB): \n",
    "# https://gaftp.epa.gov/ejscreen/2020/EJSCREEN_2020_StatePctile.gdb.zip\n",
    "\n",
    "gdf = gpd.read_file(\"/tmp/EJSCREEN_2020_StatePctile.gdb\")"
   ]
  },
  {
   "cell_type": "code",
   "execution_count": 30,
   "metadata": {},
   "outputs": [],
   "source": [
    "# Filter and save the results for just California.  It is still quite large, given \n",
    "# the boundaries of the Census tracts (approx. 263MB)\n",
    "cali = gdf[gdf.ST_ABBREV == \"CA\"]\n",
    "cali_attr = cali[[\"ID\", \"D_PM25_2\", \"geometry\"]].reset_index(drop=True)\n",
    "cali_attr.to_file(\"/tmp/cali.geojson\", driver=\"GeoJSON\") "
   ]
  }
 ],
 "metadata": {
  "kernelspec": {
   "display_name": "streamlitenv",
   "language": "python",
   "name": "streamlitenv"
  },
  "language_info": {
   "codemirror_mode": {
    "name": "ipython",
    "version": 3
   },
   "file_extension": ".py",
   "mimetype": "text/x-python",
   "name": "python",
   "nbconvert_exporter": "python",
   "pygments_lexer": "ipython3",
   "version": "3.7.6"
  }
 },
 "nbformat": 4,
 "nbformat_minor": 4
}
