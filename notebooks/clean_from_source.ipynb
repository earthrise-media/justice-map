{
 "cells": [
  {
   "cell_type": "markdown",
   "metadata": {},
   "source": [
    "### Clean data script\n",
    "A very quick script to process the data for .  Note that the data are so large and the EPA servers are so inconsistent that even the `requests` module with streaming data fails.  So just download the data to your local machine to process.  The objective is to just get started with some real data for California."
   ]
  },
  {
   "cell_type": "code",
   "execution_count": 1,
   "metadata": {},
   "outputs": [],
   "source": [
    "import pandas as pd\n",
    "import geopandas as gpd"
   ]
  },
  {
   "cell_type": "code",
   "execution_count": 2,
   "metadata": {},
   "outputs": [],
   "source": [
    "# Grab and unzip the latest verion of the EJSCREEN data for 2020 in the `/tmp` folder.\n",
    "\n",
    "# Found here (479MB): \n",
    "# https://gaftp.epa.gov/ejscreen/2020/EJSCREEN_2020_StatePctile.gdb.zip\n",
    "\n",
    "gdf = gpd.read_file(\"/tmp/EJSCREEN_2020_StatePctile.gdb\")"
   ]
  },
  {
   "cell_type": "code",
   "execution_count": 31,
   "metadata": {},
   "outputs": [],
   "source": [
    "# Filter and save the results for just California.  It is still quite large, given \n",
    "# the boundaries of the Census tracts (approx. 263MB)\n",
    "cali = gdf[gdf.ST_ABBREV == \"CA\"]\n",
    "cali_attr = cali[[\"ID\", \"D_PM25_2\", \"geometry\"]].reset_index(drop=True)"
   ]
  },
  {
   "cell_type": "code",
   "execution_count": 32,
   "metadata": {},
   "outputs": [],
   "source": [
    "# Reproject to WGS84\n",
    "cali_repr = cali_attr.to_crs(\"+proj=longlat +ellps=WGS84 +datum=WGS84 +no_defs\")\n",
    "cali_repr.to_file(\"/tmp/cali.geojson\", driver=\"GeoJSON\") "
   ]
  },
  {
   "cell_type": "code",
   "execution_count": 43,
   "metadata": {},
   "outputs": [
    {
     "name": "stderr",
     "output_type": "stream",
     "text": [
      "/Users/danhammer/streamlitenv/lib/python3.7/site-packages/ipykernel_launcher.py:4: UserWarning: Geometry is in a geographic CRS. Results from 'centroid' are likely incorrect. Use 'GeoSeries.to_crs()' to re-project geometries to a projected CRS before this operation.\n",
      "\n",
      "  after removing the cwd from sys.path.\n"
     ]
    }
   ],
   "source": [
    "# Create a CSV with the centroids of the tracts for quick web mapping\n",
    "# TODO: clean up so that you don't have to force a reproject twice\n",
    "geoms = cali_repr.geometry.to_crs(\"+proj=longlat +ellps=WGS84 +datum=WGS84 +no_defs\")\n",
    "centroids = geoms.to_crs(\"EPSG:4326\").centroid\n",
    "cali_repr[\"lon\"] = [pt.x for pt in centroids]\n",
    "cali_repr[\"lat\"] = [pt.y for pt in centroids]\n",
    "cali_centroids = cali_repr[[\"ID\", \"D_PM25_2\", \"lon\", \"lat\"]]\n",
    "cali_centroids.to_csv(\"../data/cali_centroids.csv\")"
   ]
  }
 ],
 "metadata": {
  "kernelspec": {
   "display_name": "streamlitenv",
   "language": "python",
   "name": "streamlitenv"
  },
  "language_info": {
   "codemirror_mode": {
    "name": "ipython",
    "version": 3
   },
   "file_extension": ".py",
   "mimetype": "text/x-python",
   "name": "python",
   "nbconvert_exporter": "python",
   "pygments_lexer": "ipython3",
   "version": "3.7.6"
  }
 },
 "nbformat": 4,
 "nbformat_minor": 4
}
