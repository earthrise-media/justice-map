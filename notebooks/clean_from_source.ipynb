{
 "cells": [
  {
   "cell_type": "markdown",
   "metadata": {},
   "source": [
    "## Clean data script\n",
    "A very quick script to process the data for .  Note that the data are so large and the EPA servers are so inconsistent that even the `requests` module with streaming data fails.  So just download the data to your local machine to process.  The objective is to just get started with some real data for California."
   ]
  },
  {
   "cell_type": "markdown",
   "metadata": {},
   "source": [
    "### Download the relevant data from source\n",
    "Download the data to a temp folder, given how large the raw datasets are and how small the output data are. Starting with PM2.5.  "
   ]
  },
  {
   "cell_type": "code",
   "execution_count": 4,
   "metadata": {},
   "outputs": [],
   "source": [
    "import os\n",
    "import requests\n",
    "import zipfile"
   ]
  },
  {
   "cell_type": "code",
   "execution_count": 33,
   "metadata": {},
   "outputs": [
    {
     "name": "stdout",
     "output_type": "stream",
     "text": [
      "File exists: /tmp/EJSCREEN_20150505.csv.zip\n",
      "File exists: /tmp/EJSCREEN_V3_USPR_090216_CSV.zip\n",
      "File exists: /tmp/EJSCREEN_2017_USPR_Public.csv\n",
      "File exists: /tmp/EJSCREEN_2018_USPR_csv.zip\n",
      "File exists: /tmp/EJSCREEN_2019_USPR.csv.zip\n",
      "File exists: /tmp/EJSCREEN_2020_USPR.csv.zip\n"
     ]
    }
   ],
   "source": [
    "# This will take many minutes if not already in the /tmp folder\n",
    "url_list = [\n",
    "    (2015, \"https://gaftp.epa.gov/EJSCREEN/2015/EJSCREEN_20150505.csv.zip\"),\n",
    "    (2016, \"https://gaftp.epa.gov/EJSCREEN/2016/EJSCREEN_V3_USPR_090216_CSV.zip\"),\n",
    "    (2017, \"https://gaftp.epa.gov/EJSCREEN/2017/EJSCREEN_2017_USPR_Public.csv\"),\n",
    "    (2018, \"https://gaftp.epa.gov/EJSCREEN/2018/EJSCREEN_2018_USPR_csv.zip\"),\n",
    "    (2019, \"https://gaftp.epa.gov/EJSCREEN/2019/EJSCREEN_2019_USPR.csv.zip\"),\n",
    "    (2020, \"https://gaftp.epa.gov/EJSCREEN/2020/EJSCREEN_2020_USPR.csv.zip\")\n",
    "]\n",
    "\n",
    "def download_and_process(record, target_dir = \"/tmp\"):\n",
    "    \"\"\"\n",
    "    Download and process the CSVs from EJSCREEN into a standardized file set\n",
    "    for each year.\n",
    "    \"\"\"\n",
    "    year, url = record\n",
    "    urlpath, file_extension = os.path.splitext(url)\n",
    "    fname = urlpath.split(\"/\")[-1]\n",
    "    \n",
    "    # Writing to file\n",
    "    endgame = \"%s/%s\" % (target_dir, fname + file_extension)\n",
    "\n",
    "    if os.path.exists(endgame):\n",
    "        print(\"File exists: %s\" % endgame)\n",
    "        if file_extension == \".zip\":\n",
    "            with zipfile.ZipFile(endgame, 'r') as zip_ref:\n",
    "                [csvname] = zip_ref.namelist()\n",
    "        else:\n",
    "            csvname = fname + file_extension\n",
    " \n",
    "    # If the \n",
    "    else:\n",
    "        r = requests.get(url, allow_redirects=True, verify=False)\n",
    "        with open(endgame, \"wb\") as f:\n",
    "            f.write(r.content)\n",
    "\n",
    "            if file_extension == \".zip\":\n",
    "                with zipfile.ZipFile(endgame, 'r') as zip_ref:\n",
    "                    zip_ref.extractall(target_dir)\n",
    "                    [csvname] = zip_ref.namelist()\n",
    "\n",
    "                    os.rename(\n",
    "                        target_dir + \"/\" + csvname, \n",
    "                        target_dir + \"/%s.csv\" % year\n",
    "                    )\n",
    "    \n",
    "    return target_dir + \"/%s.csv\" % year\n",
    "    \n",
    "                    \n",
    "res = [download_and_process(url) for url in url_list]"
   ]
  },
  {
   "cell_type": "code",
   "execution_count": 36,
   "metadata": {},
   "outputs": [],
   "source": [
    "import pandas as pd\n",
    "import geopandas as gpd"
   ]
  },
  {
   "cell_type": "markdown",
   "metadata": {},
   "source": [
    "#### 2015"
   ]
  },
  {
   "cell_type": "code",
   "execution_count": 66,
   "metadata": {},
   "outputs": [],
   "source": [
    "df = pd.read_csv(\n",
    "    filepath_or_buffer=\"/tmp/2015.csv\",\n",
    "    usecols=[\"statename\", \"FIPS\", \"pm\", \"o3\"],\n",
    "    low_memory=False\n",
    ")\n",
    "df = df[df.statename == \"California\"]\n",
    "df[\"year\"] = 2015\n",
    "df.columns = [\"id\", \"ozone\", \"pm\", \"statename\", \"year\"]\n",
    "df[[\"id\", \"year\", \"ozone\", \"pm\"]].to_csv(\"../data/2015.csv\", index=False)"
   ]
  },
  {
   "cell_type": "markdown",
   "metadata": {},
   "source": [
    "#### 2016-2020"
   ]
  },
  {
   "cell_type": "code",
   "execution_count": 79,
   "metadata": {},
   "outputs": [],
   "source": [
    "for year in [2016, 2017, 2018, 2019, 2020]:\n",
    "    df = pd.read_csv(\n",
    "        filepath_or_buffer=\"/tmp/%s.csv\" % year,\n",
    "        usecols=[\"ID\", \"STATE_NAME\", \"PM25\", \"OZONE\"],\n",
    "        low_memory=False\n",
    "    )\n",
    "    df = df[df.STATE_NAME == \"California\"]\n",
    "    df[\"year\"] = year\n",
    "    df.columns = [\"id\", \"ozone\", \"pm\", \"statename\", \"year\"]\n",
    "    df[[\"id\", \"year\", \"ozone\", \"pm\"]].to_csv(\"../data/%s.csv\" % year)"
   ]
  },
  {
   "cell_type": "markdown",
   "metadata": {},
   "source": [
    "### Append the data into a single data frame"
   ]
  },
  {
   "cell_type": "code",
   "execution_count": 90,
   "metadata": {},
   "outputs": [],
   "source": [
    "res = []\n",
    "\n",
    "for year in range(2015, 2021):\n",
    "    df = pd.read_csv(\n",
    "        filepath_or_buffer=\"../data/%s.csv\" % year,\n",
    "        na_values=\"None\"\n",
    "    )\n",
    "    res.append(df[[\"id\", \"year\", \"ozone\", \"pm\"]])\n",
    "    \n",
    "df = pd.concat(res)\n",
    "df.astype({'pm': 'float', 'ozone': 'float'})\n",
    "df.to_csv(\"../data/sample.csv\")"
   ]
  }
 ],
 "metadata": {
  "kernelspec": {
   "display_name": "streamlitenv",
   "language": "python",
   "name": "streamlitenv"
  },
  "language_info": {
   "codemirror_mode": {
    "name": "ipython",
    "version": 3
   },
   "file_extension": ".py",
   "mimetype": "text/x-python",
   "name": "python",
   "nbconvert_exporter": "python",
   "pygments_lexer": "ipython3",
   "version": "3.7.6"
  }
 },
 "nbformat": 4,
 "nbformat_minor": 4
}
