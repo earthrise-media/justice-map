{
 "cells": [
  {
   "cell_type": "code",
   "execution_count": 96,
   "metadata": {},
   "outputs": [],
   "source": [
    "import pandas\n",
    "import geopandas\n",
    "import numpy as np"
   ]
  },
  {
   "cell_type": "code",
   "execution_count": 97,
   "metadata": {
    "scrolled": true
   },
   "outputs": [],
   "source": [
    "# Ensure that the GDB exists in the tmp folder (~760MB)\n",
    "# Note that the 2020 GDB does not include geometries (not sure why)\n",
    "# \n",
    "us = geopandas.read_file(\n",
    "    \"/tmp/EJSCREEN_2019_USPR.gdb.zip\", \n",
    "    driver=\"FileGDB\"\n",
    ")"
   ]
  },
  {
   "cell_type": "code",
   "execution_count": 98,
   "metadata": {},
   "outputs": [],
   "source": [
    "# Select California and a set of high-priority columns\n",
    "column_list = [\n",
    "    \"ID\",\n",
    "    \"geometry\", \n",
    "    \"STATE_NAME\",\n",
    "    \"D_RESP_2\", \n",
    "    \"D_OZONE_2\", \n",
    "    \"D_PM25_2\"\n",
    "]\n",
    "\n",
    "cali = us[us.STATE_NAME == \"California\"][column_list]\n",
    "cali = cali.to_crs(\"+proj=longlat +ellps=WGS84 +datum=WGS84 +no_defs\")"
   ]
  },
  {
   "cell_type": "code",
   "execution_count": 99,
   "metadata": {},
   "outputs": [],
   "source": [
    "# add tract identifier, just the first 11 characters of the ID string\n",
    "# dissolve by tract\n",
    "cali[\"tract\"] = cali[\"ID\"].apply(lambda s: s[:11])\n",
    "cali = cali.dissolve(by='tract', aggfunc ='mean')"
   ]
  },
  {
   "cell_type": "code",
   "execution_count": 100,
   "metadata": {},
   "outputs": [
    {
     "data": {
      "image/png": "[encoded data removed]",
      "text/plain": [
       "<Figure size 432x288 with 1 Axes>"
      ]
     },
     "metadata": {
      "needs_background": "light"
     },
     "output_type": "display_data"
    }
   ],
   "source": [
    "# Read and merge Flood Factor data\n",
    "flood_factor = pandas.read_csv(\n",
    "    \"../data/fsf_tract_summary.csv\",\n",
    "    usecols=[\"fips\", \"avg_risk_score_all\"],\n",
    "    dtype={\"fips\": np.str}\n",
    ")\n",
    "\n",
    "ff_df = cali.merge(\n",
    "    flood_factor, \n",
    "    how=\"left\", \n",
    "    left_on=\"tract\", \n",
    "    right_on=\"fips\", \n",
    "    indicator=True\n",
    ")\n",
    "\n",
    "# Note that there are 13 tracts without Flood Factor data\n",
    "# and then drop the extra columns.  Those tracts seem to not have \n",
    "# any data at all, not just flood factor data.  Drop those tracts.\n",
    "ff_df[ff_df._merge == \"left_only\"].plot()\n",
    "cali_expanded = ff_df[ff_df._merge == \"both\"]\n",
    "cali_expanded = ff_df.drop(columns=[\"_merge\", \"fips\"])\n",
    "\n",
    "# In fact, there are a few tracts without scores.  Let's just \n",
    "# drop them, wholesale.\n",
    "cali_expanded = cali_expanded.dropna()"
   ]
  },
  {
   "cell_type": "code",
   "execution_count": 101,
   "metadata": {},
   "outputs": [],
   "source": [
    "# Bucket the flood factor data\n",
    "cali_expanded[\"flood_bucket\"] = pandas.qcut(\n",
    "    x=cali_expanded.avg_risk_score_all, \n",
    "    q=10, \n",
    "    labels=False\n",
    ")"
   ]
  },
  {
   "cell_type": "code",
   "execution_count": 102,
   "metadata": {},
   "outputs": [],
   "source": [
    "# dissolve the boundaries by tract and then explode the multipolygons into \n",
    "# individual polygons again\n",
    "cali_dissolved = cali_expanded.dissolve(by='flood_bucket', aggfunc='mean')\n",
    "final = cali_dissolved.explode().reset_index(drop=True)\n",
    "final.to_file(\"../data/flood_factor_bucket.geojson\", driver=\"GeoJSON\")"
   ]
  },
  {
   "cell_type": "code",
   "execution_count": 104,
   "metadata": {},
   "outputs": [
    {
     "data": {
      "text/html": [
       "<div>\n",
       "<style scoped>\n",
       "    .dataframe tbody tr th:only-of-type {\n",
       "        vertical-align: middle;\n",
       "    }\n",
       "\n",
       "    .dataframe tbody tr th {\n",
       "        vertical-align: top;\n",
       "    }\n",
       "\n",
       "    .dataframe thead th {\n",
       "        text-align: right;\n",
       "    }\n",
       "</style>\n",
       "<table border=\"1\" class=\"dataframe\">\n",
       "  <thead>\n",
       "    <tr style=\"text-align: right;\">\n",
       "      <th></th>\n",
       "      <th>D_RESP_2</th>\n",
       "      <th>D_OZONE_2</th>\n",
       "      <th>D_PM25_2</th>\n",
       "      <th>avg_risk_score_all</th>\n",
       "      <th>geometry</th>\n",
       "    </tr>\n",
       "  </thead>\n",
       "  <tbody>\n",
       "    <tr>\n",
       "      <th>0</th>\n",
       "      <td>230.827792</td>\n",
       "      <td>18699.507899</td>\n",
       "      <td>4128.433092</td>\n",
       "      <td>1.005635</td>\n",
       "      <td>POLYGON ((-117.06241 32.55885, -117.06241 32.5...</td>\n",
       "    </tr>\n",
       "    <tr>\n",
       "      <th>1</th>\n",
       "      <td>230.827792</td>\n",
       "      <td>18699.507899</td>\n",
       "      <td>4128.433092</td>\n",
       "      <td>1.005635</td>\n",
       "      <td>POLYGON ((-117.11006 32.57655, -117.11004 32.5...</td>\n",
       "    </tr>\n",
       "    <tr>\n",
       "      <th>2</th>\n",
       "      <td>230.827792</td>\n",
       "      <td>18699.507899</td>\n",
       "      <td>4128.433092</td>\n",
       "      <td>1.005635</td>\n",
       "      <td>POLYGON ((-117.10145 32.55832, -117.10144 32.5...</td>\n",
       "    </tr>\n",
       "    <tr>\n",
       "      <th>3</th>\n",
       "      <td>230.827792</td>\n",
       "      <td>18699.507899</td>\n",
       "      <td>4128.433092</td>\n",
       "      <td>1.005635</td>\n",
       "      <td>POLYGON ((-117.05404 32.58374, -117.05383 32.5...</td>\n",
       "    </tr>\n",
       "    <tr>\n",
       "      <th>4</th>\n",
       "      <td>230.827792</td>\n",
       "      <td>18699.507899</td>\n",
       "      <td>4128.433092</td>\n",
       "      <td>1.005635</td>\n",
       "      <td>POLYGON ((-116.97119 32.62531, -116.97118 32.6...</td>\n",
       "    </tr>\n",
       "    <tr>\n",
       "      <th>...</th>\n",
       "      <td>...</td>\n",
       "      <td>...</td>\n",
       "      <td>...</td>\n",
       "      <td>...</td>\n",
       "      <td>...</td>\n",
       "    </tr>\n",
       "    <tr>\n",
       "      <th>4315</th>\n",
       "      <td>186.488276</td>\n",
       "      <td>15663.041451</td>\n",
       "      <td>3144.788780</td>\n",
       "      <td>4.189084</td>\n",
       "      <td>POLYGON ((-122.28446 40.46952, -122.28438 40.4...</td>\n",
       "    </tr>\n",
       "    <tr>\n",
       "      <th>4316</th>\n",
       "      <td>186.488276</td>\n",
       "      <td>15663.041451</td>\n",
       "      <td>3144.788780</td>\n",
       "      <td>4.189084</td>\n",
       "      <td>POLYGON ((-122.35783 40.53873, -122.35438 40.5...</td>\n",
       "    </tr>\n",
       "    <tr>\n",
       "      <th>4317</th>\n",
       "      <td>186.488276</td>\n",
       "      <td>15663.041451</td>\n",
       "      <td>3144.788780</td>\n",
       "      <td>4.189084</td>\n",
       "      <td>POLYGON ((-124.24439 40.76952, -124.24099 40.7...</td>\n",
       "    </tr>\n",
       "    <tr>\n",
       "      <th>4318</th>\n",
       "      <td>186.488276</td>\n",
       "      <td>15663.041451</td>\n",
       "      <td>3144.788780</td>\n",
       "      <td>4.189084</td>\n",
       "      <td>POLYGON ((-124.19323 41.73136, -124.19330 41.7...</td>\n",
       "    </tr>\n",
       "    <tr>\n",
       "      <th>4319</th>\n",
       "      <td>186.488276</td>\n",
       "      <td>15663.041451</td>\n",
       "      <td>3144.788780</td>\n",
       "      <td>4.189084</td>\n",
       "      <td>POLYGON ((-121.95368 41.64676, -121.95361 41.6...</td>\n",
       "    </tr>\n",
       "  </tbody>\n",
       "</table>\n",
       "<p>4320 rows × 5 columns</p>\n",
       "</div>"
      ],
      "text/plain": [
       "        D_RESP_2     D_OZONE_2     D_PM25_2  avg_risk_score_all  \\\n",
       "0     230.827792  18699.507899  4128.433092            1.005635   \n",
       "1     230.827792  18699.507899  4128.433092            1.005635   \n",
       "2     230.827792  18699.507899  4128.433092            1.005635   \n",
       "3     230.827792  18699.507899  4128.433092            1.005635   \n",
       "4     230.827792  18699.507899  4128.433092            1.005635   \n",
       "...          ...           ...          ...                 ...   \n",
       "4315  186.488276  15663.041451  3144.788780            4.189084   \n",
       "4316  186.488276  15663.041451  3144.788780            4.189084   \n",
       "4317  186.488276  15663.041451  3144.788780            4.189084   \n",
       "4318  186.488276  15663.041451  3144.788780            4.189084   \n",
       "4319  186.488276  15663.041451  3144.788780            4.189084   \n",
       "\n",
       "                                               geometry  \n",
       "0     POLYGON ((-117.06241 32.55885, -117.06241 32.5...  \n",
       "1     POLYGON ((-117.11006 32.57655, -117.11004 32.5...  \n",
       "2     POLYGON ((-117.10145 32.55832, -117.10144 32.5...  \n",
       "3     POLYGON ((-117.05404 32.58374, -117.05383 32.5...  \n",
       "4     POLYGON ((-116.97119 32.62531, -116.97118 32.6...  \n",
       "...                                                 ...  \n",
       "4315  POLYGON ((-122.28446 40.46952, -122.28438 40.4...  \n",
       "4316  POLYGON ((-122.35783 40.53873, -122.35438 40.5...  \n",
       "4317  POLYGON ((-124.24439 40.76952, -124.24099 40.7...  \n",
       "4318  POLYGON ((-124.19323 41.73136, -124.19330 41.7...  \n",
       "4319  POLYGON ((-121.95368 41.64676, -121.95361 41.6...  \n",
       "\n",
       "[4320 rows x 5 columns]"
      ]
     },
     "execution_count": 104,
     "metadata": {},
     "output_type": "execute_result"
    }
   ],
   "source": [
    "final"
   ]
  },
  {
   "cell_type": "code",
   "execution_count": 103,
   "metadata": {},
   "outputs": [
    {
     "data": {
      "image/png": "[encoded data removed]",
      "text/plain": [
       "<Figure size 432x288 with 1 Axes>"
      ]
     },
     "metadata": {
      "needs_background": "light"
     },
     "output_type": "display_data"
    }
   ],
   "source": [
    "ax = final.plot(\n",
    "    column = \"avg_risk_score_all\",\n",
    "    linewidth = -1\n",
    ")\n",
    "\n",
    "ax.axis('off')\n",
    "plt.savefig('zoom.png', dpi=300)"
   ]
  }
 ],
 "metadata": {
  "kernelspec": {
   "display_name": "streamlitenv",
   "language": "python",
   "name": "streamlitenv"
  },
  "language_info": {
   "codemirror_mode": {
    "name": "ipython",
    "version": 3
   },
   "file_extension": ".py",
   "mimetype": "text/x-python",
   "name": "python",
   "nbconvert_exporter": "python",
   "pygments_lexer": "ipython3",
   "version": "3.7.6"
  }
 },
 "nbformat": 4,
 "nbformat_minor": 4
}
