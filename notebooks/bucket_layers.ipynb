{
 "cells": [
  {
   "cell_type": "code",
   "execution_count": 1,
   "metadata": {},
   "outputs": [],
   "source": [
    "import pandas\n",
    "import geopandas\n",
    "import numpy as np"
   ]
  },
  {
   "cell_type": "code",
   "execution_count": 2,
   "metadata": {
    "scrolled": true
   },
   "outputs": [],
   "source": [
    "# Ensure that the GDB exists in the tmp folder (~760MB)\n",
    "# Note that the 2020 GDB does not include geometries (not sure why)\n",
    "# \n",
    "us = geopandas.read_file(\n",
    "    \"/tmp/EJSCREEN_2019_USPR.gdb.zip\", \n",
    "    driver=\"FileGDB\"\n",
    ")"
   ]
  },
  {
   "cell_type": "code",
   "execution_count": 3,
   "metadata": {},
   "outputs": [],
   "source": [
    "# Select California and a set of high-priority columns\n",
    "column_list = [\n",
    "    \"ID\",\n",
    "    \"geometry\", \n",
    "    \"STATE_NAME\",\n",
    "    \"D_RESP_2\", \n",
    "    \"D_OZONE_2\", \n",
    "    \"D_PM25_2\"\n",
    "]\n",
    "\n",
    "cali = us[us.STATE_NAME == \"California\"][column_list]\n",
    "cali = cali.to_crs(\"+proj=longlat +ellps=WGS84 +datum=WGS84 +no_defs\")"
   ]
  },
  {
   "cell_type": "code",
   "execution_count": 4,
   "metadata": {},
   "outputs": [],
   "source": [
    "# add tract identifier, just the first 11 characters of the ID string\n",
    "# dissolve by tract\n",
    "cali[\"tract\"] = cali[\"ID\"].apply(lambda s: s[:11])\n",
    "cali = cali.dissolve(by='tract', aggfunc ='mean')"
   ]
  },
  {
   "cell_type": "code",
   "execution_count": 5,
   "metadata": {},
   "outputs": [
    {
     "data": {
      "image/png": "[encoded data removed]",
      "text/plain": [
       "<Figure size 432x288 with 1 Axes>"
      ]
     },
     "metadata": {
      "needs_background": "light"
     },
     "output_type": "display_data"
    }
   ],
   "source": [
    "# Read and merge Flood Factor data\n",
    "flood_factor = pandas.read_csv(\n",
    "    \"../data/fsf_tract_summary.csv\",\n",
    "    usecols=[\"fips\", \"avg_risk_score_all\"],\n",
    "    dtype={\"fips\": np.str}\n",
    ")\n",
    "\n",
    "ff_df = cali.merge(\n",
    "    flood_factor, \n",
    "    how=\"left\", \n",
    "    left_on=\"tract\", \n",
    "    right_on=\"fips\", \n",
    "    indicator=True\n",
    ")\n",
    "\n",
    "# Note that there are 13 tracts without Flood Factor data\n",
    "# and then drop the extra columns.  Those tracts seem to not have \n",
    "# any data at all, not just flood factor data.  Drop those tracts.\n",
    "ff_df[ff_df._merge == \"left_only\"].plot()\n",
    "cali_expanded = ff_df[ff_df._merge == \"both\"]\n",
    "cali_expanded = ff_df.drop(columns=[\"_merge\", \"fips\"])\n",
    "\n",
    "# In fact, there are a few tracts without scores.  Let's just \n",
    "# drop them, wholesale.\n",
    "cali_expanded = cali_expanded.dropna()"
   ]
  },
  {
   "cell_type": "code",
   "execution_count": 6,
   "metadata": {},
   "outputs": [],
   "source": [
    "# Bucket the flood factor data\n",
    "cali_expanded[\"flood_bucket\"] = pandas.qcut(\n",
    "    x=cali_expanded.avg_risk_score_all, \n",
    "    q=10, \n",
    "    labels=False\n",
    ")"
   ]
  },
  {
   "cell_type": "code",
   "execution_count": null,
   "metadata": {},
   "outputs": [],
   "source": [
    "# dissolve the boundaries by tract and then explode the multipolygons into \n",
    "# individual polygons again\n",
    "cali_dissolved = cali_expanded.dissolve(by='flood_bucket', aggfunc='mean')\n",
    "cali_polygons = cali_dissolved.explode().reset_index(drop=True)\n",
    "\n",
    "cali_polygons[\"ff_score\"] = cali_polygons[\"avg_risk_score_all\"] * 1000\n",
    "cali_polygons = cali_polygons.astype(\n",
    "    {'ff_score': 'int32'}\n",
    ")\n",
    "\n",
    "cali_polygons[\"geometry\"] = cali_polygons[\"geometry\"].simplify(0.0001, preserve_topology=False)\n",
    "\n",
    "final = cali_polygons[[\"ff_score\", \"geometry\"]]\n",
    "final.to_file(\"../data/flood_factor_bucket.geojson\", driver=\"GeoJSON\")"
   ]
  },
  {
   "cell_type": "code",
   "execution_count": null,
   "metadata": {},
   "outputs": [],
   "source": [
    "ax = final.plot(\n",
    "    column = \"avg_risk_score_all\",\n",
    "    linewidth = -1\n",
    ")\n",
    "\n",
    "ax.axis('off')\n",
    "plt.savefig('zoom.png', dpi=300)"
   ]
  }
 ],
 "metadata": {
  "kernelspec": {
   "display_name": "streamlitenv",
   "language": "python",
   "name": "streamlitenv"
  },
  "language_info": {
   "codemirror_mode": {
    "name": "ipython",
    "version": 3
   },
   "file_extension": ".py",
   "mimetype": "text/x-python",
   "name": "python",
   "nbconvert_exporter": "python",
   "pygments_lexer": "ipython3",
   "version": "3.7.6"
  }
 },
 "nbformat": 4,
 "nbformat_minor": 4
}
