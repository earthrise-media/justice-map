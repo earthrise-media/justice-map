{
 "cells": [
  {
   "cell_type": "markdown",
   "metadata": {},
   "source": [
    "### Create three files for each environmental index *within* EJSCREEN data\n",
    "1. **Block**. This is the raw geospatial file, the most granular set of polygons.  There are **23,212 blocks** in California.\n",
    "2. **Tract**. A tract is an aggregation of Block groups (which are aggregations of Blocks).  Average of the values across the blocks to the Tract level.  There are **8,057 tracts** in California.\n",
    "3.  **VizBucket**.  For a given variable, bucket the values for zoomed-out visualizations.  There are approximately **4,000 simplified polygons** in this bucket, although the exact number will vary by the environmental measure (and how it's distributed across space).\n"
   ]
  },
  {
   "cell_type": "code",
   "execution_count": 1,
   "metadata": {},
   "outputs": [],
   "source": [
    "import pandas\n",
    "import geopandas\n",
    "import numpy as np\n",
    "import matplotlib.pyplot as plt"
   ]
  },
  {
   "cell_type": "code",
   "execution_count": 5,
   "metadata": {
    "scrolled": true
   },
   "outputs": [],
   "source": [
    "# Ensure that the GDB exists in the tmp folder (~760MB)\n",
    "# Note that the 2020 GDB does not include geometries (not sure why)\n",
    "# https://gaftp.epa.gov/EJSCREEN/2019/EJSCREEN_2019_USPR.gdb.zip\n",
    "us = geopandas.read_file(\n",
    "    \"/tmp/EJSCREEN_2019_USPR.gdb.zip\", \n",
    "    driver=\"FileGDB\"\n",
    ")"
   ]
  },
  {
   "cell_type": "code",
   "execution_count": 17,
   "metadata": {},
   "outputs": [],
   "source": [
    "# Select California and a set of high-priority columns\n",
    "column_list = [\n",
    "    \"ID\",\n",
    "    \"geometry\", \n",
    "    \"STATE_NAME\",\n",
    "    \"D_RESP_2\", \n",
    "    \"D_OZONE_2\", \n",
    "    \"D_PM25_2\"\n",
    "]\n",
    "\n",
    "cali = us[us.STATE_NAME == \"California\"][column_list]\n",
    "cali = cali.to_crs(\"+proj=longlat +ellps=WGS84 +datum=WGS84 +no_defs\")"
   ]
  },
  {
   "cell_type": "markdown",
   "metadata": {},
   "source": [
    "#### Create the BLOCK GeoJSON for each variable"
   ]
  },
  {
   "cell_type": "code",
   "execution_count": 22,
   "metadata": {},
   "outputs": [],
   "source": [
    "column_list = [\"D_RESP_2\", \"D_OZONE_2\", \"D_PM25_2\"]"
   ]
  },
  {
   "cell_type": "code",
   "execution_count": 11,
   "metadata": {},
   "outputs": [],
   "source": [
    "for varname in column_list:\n",
    "    block_df = cali[[\"ID\", varname, \"geometry\"]]\n",
    "    block_df.columns = [\"block\", varname, \"geometry\"]\n",
    "    block_df.to_file(\"../data/block/%s.geojson\" % varname, driver=\"GeoJSON\")"
   ]
  },
  {
   "cell_type": "markdown",
   "metadata": {},
   "source": [
    "#### Create the Tract GeoJSON for each variable"
   ]
  },
  {
   "cell_type": "code",
   "execution_count": 25,
   "metadata": {},
   "outputs": [],
   "source": [
    "# add tract identifier, just the first 11 characters of the ID string\n",
    "# dissolve by tract\n",
    "cali[\"tract\"] = cali[\"ID\"].apply(lambda s: s[:11])\n",
    "cali_tract = cali.dissolve(by='tract', aggfunc ='mean').reset_index()\n",
    "for varname in column_list:\n",
    "    tract_df = cali_tract[[\"tract\", varname, \"geometry\"]]\n",
    "    tract_df.to_file(\"../data/tract/%s.geojson\" % varname, driver=\"GeoJSON\")"
   ]
  },
  {
   "cell_type": "markdown",
   "metadata": {},
   "source": [
    "#### Create the VizBucket GeoJSON for each variable\n",
    "Including some polygon simplification"
   ]
  },
  {
   "cell_type": "code",
   "execution_count": 33,
   "metadata": {},
   "outputs": [],
   "source": [
    "# Create a decile bucket for each variable\n",
    "cali_vizbucket = cali_tract.copy()\n",
    "for varname in column_list:\n",
    "    name = varname + \"_vizbucket\"\n",
    "    cali_vizbucket[name] = pandas.qcut(\n",
    "        x=cali_vizbucket[varname],\n",
    "        q=10, \n",
    "        labels=False\n",
    "    )\n",
    "    vz_df = cali_vizbucket[[\"tract\", name, varname, \"geometry\"]]\n",
    "    vz_df = vz_df.dissolve(by=name, aggfunc='mean')\n",
    "    vz_df.explode().reset_index(drop=True)\n",
    "    vz_df[\"geometry\"] = vz_df[\"geometry\"].simplify(0.0001, preserve_topology=False)\n",
    "    vz_df.to_file(\"../data/vizbucket/%s.geojson\" % varname, driver=\"GeoJSON\")"
   ]
  },
  {
   "cell_type": "markdown",
   "metadata": {},
   "source": [
    "### Create three files for each *new* environmental data set"
   ]
  },
  {
   "cell_type": "markdown",
   "metadata": {},
   "source": [
    "#### Flood factor"
   ]
  },
  {
   "cell_type": "code",
   "execution_count": 42,
   "metadata": {},
   "outputs": [],
   "source": [
    "# Read and merge Flood Factor data\n",
    "flood_factor = pandas.read_csv(\n",
    "    \"../data/fsf_tract_summary.csv\",\n",
    "    usecols=[\"fips\", \"avg_risk_score_all\"],\n",
    "    dtype={\"fips\": np.str}\n",
    ")\n",
    "\n",
    "ff_df = cali.merge(\n",
    "    flood_factor, \n",
    "    how=\"left\", \n",
    "    left_on=\"tract\", \n",
    "    right_on=\"fips\", \n",
    "    indicator=False\n",
    ")\n",
    "\n",
    "# Note that there are 13 tracts without Flood Factor data\n",
    "# and then drop the extra columns.  Those tracts seem to not have \n",
    "# any data at all, not just flood factor data.  Drop those tracts.\n",
    "ff_df = ff_df.dropna()"
   ]
  },
  {
   "cell_type": "code",
   "execution_count": 46,
   "metadata": {},
   "outputs": [],
   "source": [
    "# flood factor is only reported at the tract level\n",
    "ff_tract = ff_df.dissolve(by='tract', aggfunc ='mean').reset_index()\n",
    "ff_tract = ff_tract.explode().reset_index(drop=True)\n",
    "ff_tract = ff_tract[[\"tract\", \"avg_risk_score_all\", \"geometry\"]]\n",
    "ff_tract.to_file(\"../data/tract/flood_factor.geojson\", driver=\"GeoJSON\")"
   ]
  },
  {
   "cell_type": "code",
   "execution_count": 51,
   "metadata": {},
   "outputs": [],
   "source": [
    "# bucket the flood factor values for visualization\n",
    "ff_tract[\"ff_bucket\"] = pandas.qcut(\n",
    "    x=ff_tract.avg_risk_score_all, \n",
    "    q=10, \n",
    "    labels=False\n",
    ")\n",
    "ff_vizbucket = ff_tract.dissolve(by=\"ff_bucket\", aggfunc='mean')\n",
    "ff_vizbucket.explode().reset_index(drop=True)\n",
    "ff_vizbucket[\"geometry\"] = ff_vizbucket[\"geometry\"].simplify(0.0001, preserve_topology=False)\n",
    "ff_vizbucket.to_file(\"../data/vizbucket/flood_factor.geojson\", driver=\"GeoJSON\")"
   ]
  },
  {
   "cell_type": "code",
   "execution_count": 56,
   "metadata": {},
   "outputs": [
    {
     "data": {
      "text/plain": [
       "(-124.9312057698106,\n",
       " -113.61693755590943,\n",
       " 32.060393364473434,\n",
       " 42.48327564637671)"
      ]
     },
     "execution_count": 56,
     "metadata": {},
     "output_type": "execute_result"
    },
    {
     "data": {
      "image/png": "[encoded data removed]",
      "text/plain": [
       "<Figure size 432x288 with 1 Axes>"
      ]
     },
     "metadata": {
      "needs_background": "light"
     },
     "output_type": "display_data"
    }
   ],
   "source": [
    "ax = ff_vizbucket.plot(\n",
    "    column = \"avg_risk_score_all\",\n",
    "    linewidth = 0\n",
    ")\n",
    "\n",
    "ax.axis('off')\n",
    "# plt.savefig('zoom.png', dpi=300)"
   ]
  }
 ],
 "metadata": {
  "kernelspec": {
   "display_name": "streamlitenv",
   "language": "python",
   "name": "streamlitenv"
  },
  "language_info": {
   "codemirror_mode": {
    "name": "ipython",
    "version": 3
   },
   "file_extension": ".py",
   "mimetype": "text/x-python",
   "name": "python",
   "nbconvert_exporter": "python",
   "pygments_lexer": "ipython3",
   "version": "3.7.6"
  }
 },
 "nbformat": 4,
 "nbformat_minor": 4
}
