{
 "cells": [
  {
   "cell_type": "code",
   "execution_count": 1,
   "id": "ethical-papua",
   "metadata": {},
   "outputs": [],
   "source": [
    "import pandas as pd\n",
    "import geopandas as gpd\n",
    "import math"
   ]
  },
  {
   "cell_type": "code",
   "execution_count": 2,
   "id": "heated-hanging",
   "metadata": {},
   "outputs": [],
   "source": [
    "gdf = gpd.read_file(\"../data/EJSCREEN_2020_CA.shp/EJSCREEN_2020_CA.shp\")\n",
    "cali_repr = gdf.to_crs(\"+proj=longlat +ellps=WGS84 +datum=WGS84 +no_defs\")"
   ]
  },
  {
   "cell_type": "code",
   "execution_count": 72,
   "id": "approximate-avenue",
   "metadata": {},
   "outputs": [],
   "source": [
    "# aggregate block groups to tracts\n",
    "tracts = []\n",
    "for i in range(len(cali_repr.index)):\n",
    "    tracts.extend([cali_repr[\"ID\"][i][:11]])\n",
    "cali_repr['tract'] = tracts"
   ]
  },
  {
   "cell_type": "code",
   "execution_count": 77,
   "id": "organizational-sister",
   "metadata": {},
   "outputs": [],
   "source": [
    "cali_tracts = cali_repr.dissolve(by='tract',  aggfunc ='mean')"
   ]
  },
  {
   "cell_type": "code",
   "execution_count": 78,
   "id": "complimentary-reset",
   "metadata": {},
   "outputs": [],
   "source": [
    "# assign tracts to buckets by D_PM25_2\n",
    "cali_tracts.sort_values(\"D_PM25_2\", inplace=True)"
   ]
  },
  {
   "cell_type": "code",
   "execution_count": 120,
   "id": "empirical-planet",
   "metadata": {},
   "outputs": [],
   "source": [
    "D_PM25_2_bucket = []\n",
    "num_buckets = 10\n",
    "bucket_size = math.ceil(len(cali_tracts.index) / num_buckets)\n",
    "for i in range(len(cali_tracts.index)):\n",
    "    D_PM25_2_bucket.extend([math.floor(i / bucket_size)])\n",
    "cali_tracts['D_PM25_2_bucket'] = D_PM25_2_bucket"
   ]
  },
  {
   "cell_type": "code",
   "execution_count": 121,
   "id": "focused-width",
   "metadata": {},
   "outputs": [],
   "source": [
    "# dissolve tracts by bucket\n",
    "cali_attr = cali_tracts[[\"D_PM25_2\", \"D_PM25_2_bucket\", \"geometry\"]].reset_index(drop=True)"
   ]
  },
  {
   "cell_type": "code",
   "execution_count": 122,
   "id": "orange-table",
   "metadata": {},
   "outputs": [],
   "source": [
    "cali_dissolve = cali_attr.dissolve(by='D_PM25_2_bucket', aggfunc='mean')"
   ]
  },
  {
   "cell_type": "code",
   "execution_count": 123,
   "id": "blind-horror",
   "metadata": {},
   "outputs": [],
   "source": [
    "# break up MULTIPOLYGONs into individual polygons\n",
    "compressed = []\n",
    "for i in range(num_buckets):\n",
    "    for j in range(len(cali_dissolve['geometry'][i].geoms)):\n",
    "        compressed.append([math.floor(cali_dissolve['D_PM25_2'][i]), cali_dissolve['geometry'][i].geoms[j]])\n",
    " \n",
    "gdf_compressed = gpd.GeoDataFrame(compressed, columns=[\"D_PM25_2\", \"geometry\"], crs=\"EPSG:4326\")\n"
   ]
  },
  {
   "cell_type": "code",
   "execution_count": 125,
   "id": "homeless-benchmark",
   "metadata": {},
   "outputs": [],
   "source": [
    "gdf_compressed.to_file(\"../data/EJSCREEN_2020_CA_D_PM25_2_dissolve.geojson\", driver=\"GeoJSON\")"
   ]
  }
 ],
 "metadata": {
  "kernelspec": {
   "display_name": "Python 3",
   "language": "python",
   "name": "python3"
  },
  "language_info": {
   "codemirror_mode": {
    "name": "ipython",
    "version": 3
   },
   "file_extension": ".py",
   "mimetype": "text/x-python",
   "name": "python",
   "nbconvert_exporter": "python",
   "pygments_lexer": "ipython3",
   "version": "3.8.2"
  }
 },
 "nbformat": 4,
 "nbformat_minor": 5
}
